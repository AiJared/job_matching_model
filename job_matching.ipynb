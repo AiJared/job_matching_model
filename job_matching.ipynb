{
  "nbformat": 4,
  "nbformat_minor": 0,
  "metadata": {
    "colab": {
      "provenance": [],
      "authorship_tag": "ABX9TyNCn5Olx76kmfMZqcuRqpjD",
      "include_colab_link": true
    },
    "kernelspec": {
      "name": "python3",
      "display_name": "Python 3"
    },
    "language_info": {
      "name": "python"
    }
  },
  "cells": [
    {
      "cell_type": "markdown",
      "metadata": {
        "id": "view-in-github",
        "colab_type": "text"
      },
      "source": [
        "<a href=\"https://colab.research.google.com/github/AiJared/job_matching_model/blob/main/job_matching.ipynb\" target=\"_parent\"><img src=\"https://colab.research.google.com/assets/colab-badge.svg\" alt=\"Open In Colab\"/></a>"
      ]
    },
    {
      "cell_type": "code",
      "execution_count": 1,
      "metadata": {
        "colab": {
          "base_uri": "https://localhost:8080/"
        },
        "id": "_PbiKW1fhtq6",
        "outputId": "a3af14a5-a97b-4549-c2a1-044c8d3da943"
      },
      "outputs": [
        {
          "output_type": "stream",
          "name": "stdout",
          "text": [
            "TensorFlow version: 2.18.0\n"
          ]
        }
      ],
      "source": [
        "# Import required libraries\n",
        "import numpy as np\n",
        "import pandas as pd\n",
        "import tensorflow as tf\n",
        "import matplotlib.pyplot as plt\n",
        "import seaborn as sns\n",
        "import pickle\n",
        "from sklearn.model_selection import train_test_split\n",
        "from sklearn.preprocessing import OneHotEncoder, StandardScaler\n",
        "from sklearn.feature_extraction.text import TfidfVectorizer\n",
        "from sklearn.pipeline import Pipeline\n",
        "from sklearn.compose import ColumnTransformer\n",
        "\n",
        "# Check TensorFlow version\n",
        "print(f\"TensorFlow version: {tf.__version__}\")"
      ]
    },
    {
      "cell_type": "code",
      "source": [
        "# Mock data creation (you'll replace this with your actual data loading)\n",
        "# This creates dummy data for development purposes\n",
        "# In a real scenario, you'd load your candidates.csv, jobs.csv, and matches.csv\n",
        "\n",
        "def create_mock_data():\n",
        "    # Create candidate data\n",
        "    candidates = pd.DataFrame({\n",
        "        'id': range(1, 101),\n",
        "        'skills': [\n",
        "            'python java sql', 'javascript html css', 'c++ python', 'java spring hibernate',\n",
        "            'react node.js mongodb', 'python django flask', 'java spring boot',\n",
        "            'javascript react redux', 'python numpy pandas', 'c# .net sql'\n",
        "        ] * 10,\n",
        "        'experience': np.random.randint(0, 11, 100),\n",
        "        'education': np.random.choice(['High School', 'Bachelor', 'Master', 'PhD'], 100),\n",
        "        'location': np.random.choice(['New York', 'San Francisco', 'Seattle', 'Austin', 'Chicago'], 100)\n",
        "    })\n",
        "\n",
        "    # Create job data\n",
        "    jobs = pd.DataFrame({\n",
        "        'id': range(1, 51),\n",
        "        'title': [\n",
        "            'Software Engineer', 'Web Developer', 'Data Scientist', 'Backend Developer',\n",
        "            'Frontend Developer', 'Full Stack Developer', 'DevOps Engineer',\n",
        "            'ML Engineer', 'Data Analyst', 'Software Developer'\n",
        "        ] * 5,\n",
        "        'required_skills': [\n",
        "            'python java sql', 'javascript html css', 'python pandas scikit-learn', 'java spring hibernate',\n",
        "            'react javascript css', 'python django javascript', 'aws docker kubernetes',\n",
        "            'python tensorflow keras', 'sql python tableau', 'c# .net sql'\n",
        "        ] * 5,\n",
        "        'min_experience': np.random.randint(0, 6, 50),\n",
        "        'required_education': np.random.choice(['High School', 'Bachelor', 'Master', 'PhD'], 50),\n",
        "        'location': np.random.choice(['New York', 'San Francisco', 'Seattle', 'Austin', 'Chicago'], 50)\n",
        "    })\n",
        "\n",
        "    # Create match data (some good matches, some poor matches)\n",
        "    matches = []\n",
        "    for _ in range(300):\n",
        "        candidate_id = np.random.randint(1, 101)\n",
        "        job_id = np.random.randint(1, 51)\n",
        "\n",
        "        # Simplistic match score calculation for demo\n",
        "        candidate = candidates[candidates['id'] == candidate_id].iloc[0]\n",
        "        job = jobs[jobs['id'] == job_id].iloc[0]\n",
        "\n",
        "        # Basic matching logic - more sophisticated in real implementation\n",
        "        skill_match = len(set(candidate['skills'].split()) & set(job['required_skills'].split())) / len(set(job['required_skills'].split()))\n",
        "        exp_match = 1 if candidate['experience'] >= job['min_experience'] else 0.5\n",
        "        edu_match = 1 if candidate['education'] == job['required_education'] else 0.7\n",
        "        loc_match = 1 if candidate['location'] == job['location'] else 0.8\n",
        "\n",
        "        match_score = (skill_match * 0.5 + exp_match * 0.3 + edu_match * 0.1 + loc_match * 0.1)\n",
        "\n",
        "        matches.append({\n",
        "            'candidate_id': candidate_id,\n",
        "            'job_id': job_id,\n",
        "            'match_score': match_score\n",
        "        })\n",
        "\n",
        "    matches_df = pd.DataFrame(matches)\n",
        "\n",
        "    return candidates, jobs, matches_df\n",
        "\n",
        "# Generate mock data\n",
        "candidates_df, jobs_df, matches_df = create_mock_data()\n",
        "\n",
        "# Display the first few rows of each dataframe\n",
        "print(\"Candidates DataFrame:\")\n",
        "print(candidates_df.head())\n",
        "print(\"\\nJobs DataFrame:\")\n",
        "print(jobs_df.head())\n",
        "print(\"\\nMatches DataFrame:\")\n",
        "print(matches_df.head())"
      ],
      "metadata": {
        "colab": {
          "base_uri": "https://localhost:8080/"
        },
        "id": "ut14v-hNiD5d",
        "outputId": "4c09e688-8e1e-44d0-bdef-fff65cb32d71"
      },
      "execution_count": 2,
      "outputs": [
        {
          "output_type": "stream",
          "name": "stdout",
          "text": [
            "Candidates DataFrame:\n",
            "   id                 skills  experience    education       location\n",
            "0   1        python java sql           8     Bachelor  San Francisco\n",
            "1   2    javascript html css           2          PhD        Chicago\n",
            "2   3             c++ python           8          PhD  San Francisco\n",
            "3   4  java spring hibernate           9  High School        Chicago\n",
            "4   5  react node.js mongodb           6  High School  San Francisco\n",
            "\n",
            "Jobs DataFrame:\n",
            "   id               title             required_skills  min_experience  \\\n",
            "0   1   Software Engineer             python java sql               3   \n",
            "1   2       Web Developer         javascript html css               4   \n",
            "2   3      Data Scientist  python pandas scikit-learn               5   \n",
            "3   4   Backend Developer       java spring hibernate               5   \n",
            "4   5  Frontend Developer        react javascript css               4   \n",
            "\n",
            "  required_education       location  \n",
            "0                PhD        Chicago  \n",
            "1                PhD  San Francisco  \n",
            "2           Bachelor        Seattle  \n",
            "3             Master  San Francisco  \n",
            "4             Master       New York  \n",
            "\n",
            "Matches DataFrame:\n",
            "   candidate_id  job_id  match_score\n",
            "0           100      27     0.450000\n",
            "1             4      26     0.450000\n",
            "2            90       1     0.666667\n",
            "3            65      34     0.450000\n",
            "4            42      15     0.813333\n"
          ]
        }
      ]
    },
    {
      "cell_type": "code",
      "source": [
        "# Load actual data (uncomment and modify for your actual data)\n",
        "\"\"\"\n",
        "# Load your actual data\n",
        "candidates_df = pd.read_csv('candidates.csv')\n",
        "jobs_df = pd.read_csv('jobs.csv')\n",
        "matches_df = pd.read_csv('matches.csv')\n",
        "\n",
        "# Display basic statistics\n",
        "print(\"Candidates DataFrame Info:\")\n",
        "print(candidates_df.info())\n",
        "print(\"\\nJobs DataFrame Info:\")\n",
        "print(jobs_df.info())\n",
        "print(\"\\nMatches DataFrame Info:\")\n",
        "print(matches_df.info())\n",
        "\"\"\""
      ],
      "metadata": {
        "colab": {
          "base_uri": "https://localhost:8080/",
          "height": 70
        },
        "id": "GD-UWJV_jlDo",
        "outputId": "012fd10a-b017-48d7-d895-336ca3694482"
      },
      "execution_count": 3,
      "outputs": [
        {
          "output_type": "execute_result",
          "data": {
            "text/plain": [
              "'\\n# Load your actual data\\ncandidates_df = pd.read_csv(\\'candidates.csv\\')\\njobs_df = pd.read_csv(\\'jobs.csv\\')\\nmatches_df = pd.read_csv(\\'matches.csv\\')\\n\\n# Display basic statistics\\nprint(\"Candidates DataFrame Info:\")\\nprint(candidates_df.info())\\nprint(\"\\nJobs DataFrame Info:\")\\nprint(jobs_df.info())\\nprint(\"\\nMatches DataFrame Info:\")\\nprint(matches_df.info())\\n'"
            ],
            "application/vnd.google.colaboratory.intrinsic+json": {
              "type": "string"
            }
          },
          "metadata": {},
          "execution_count": 3
        }
      ]
    },
    {
      "cell_type": "code",
      "source": [
        "# Data Exploration and Visualization\n",
        "# Explore the distribution of match scores\n",
        "plt.figure(figsize=(10, 6))\n",
        "sns.histplot(matches_df['match_score'], bins=20)\n",
        "plt.title('Distribution of Match Scores')\n",
        "plt.xlabel('Match Score')\n",
        "plt.ylabel('Frequency')\n",
        "plt.show()\n",
        "\n",
        "# Explore candidate experience distribution\n",
        "plt.figure(figsize=(10, 6))\n",
        "sns.countplot(x='experience', data=candidates_df)\n",
        "plt.title('Distribution of Candidate Experience')\n",
        "plt.xlabel('Years of Experience')\n",
        "plt.ylabel('Count')\n",
        "plt.show()\n",
        "\n",
        "# Explore education distribution\n",
        "plt.figure(figsize=(10, 6))\n",
        "sns.countplot(x='education', data=candidates_df)\n",
        "plt.title('Distribution of Education Levels')\n",
        "plt.xlabel('Education Level')\n",
        "plt.ylabel('Count')\n",
        "plt.show()"
      ],
      "metadata": {
        "colab": {
          "base_uri": "https://localhost:8080/",
          "height": 1000
        },
        "id": "L5WTwom7uyEV",
        "outputId": "2a55da26-ab16-4334-dc91-ff55bf02cb39"
      },
      "execution_count": 4,
      "outputs": [
        {
          "output_type": "display_data",
          "data": {
            "text/plain": [
              "<Figure size 1000x600 with 1 Axes>"
            ],
            "image/png": "[encoded data removed]"
          },
          "metadata": {}
        },
        {
          "output_type": "display_data",
          "data": {
            "text/plain": [
              "<Figure size 1000x600 with 1 Axes>"
            ],
            "image/png": "[encoded data removed]"
          },
          "metadata": {}
        },
        {
          "output_type": "display_data",
          "data": {
            "text/plain": [
              "<Figure size 1000x600 with 1 Axes>"
            ],
            "image/png": "[encoded data removed]"
          },
          "metadata": {}
        }
      ]
    },
    {
      "cell_type": "code",
      "source": [
        "# Feature Engineering - Creating Preprocessing Pipelines\n",
        "\n",
        "# Create preprocessing pipelines for candidates\n",
        "def create_candidate_preprocessor(candidates_df):\n",
        "    # Define different transformers for different types of features\n",
        "\n",
        "    # Text features - convert skills to TF-IDF vectors\n",
        "    text_transformer = Pipeline([\n",
        "        ('tfidf', TfidfVectorizer(max_features=100, stop_words='english'))\n",
        "    ])\n",
        "\n",
        "    # Categorical features - one-hot encode education and location\n",
        "    categorical_transformer = Pipeline([\n",
        "        ('onehot', OneHotEncoder(handle_unknown='ignore'))\n",
        "    ])\n",
        "\n",
        "    # Numeric features - scale experience\n",
        "    numeric_transformer = Pipeline([\n",
        "        ('scaler', StandardScaler())\n",
        "    ])\n",
        "\n",
        "    # Combine transformers using ColumnTransformer\n",
        "    candidate_preprocessor = ColumnTransformer(\n",
        "        transformers=[\n",
        "            ('text', text_transformer, 'skills'),\n",
        "            ('cat', categorical_transformer, ['education', 'location']),\n",
        "            ('num', numeric_transformer, ['experience'])\n",
        "        ],\n",
        "        remainder='drop'  # Drop other columns not specified\n",
        "    )\n",
        "\n",
        "    # Fit the preprocessor on candidates data\n",
        "    candidate_preprocessor.fit(candidates_df)\n",
        "\n",
        "    return candidate_preprocessor\n",
        "\n",
        "# Create preprocessing pipelines for jobs\n",
        "def create_job_preprocessor(jobs_df):\n",
        "    # Define different transformers for different types of features\n",
        "\n",
        "    # Text features - convert required skills and title to TF-IDF vectors\n",
        "    text_transformer = Pipeline([\n",
        "        ('tfidf', TfidfVectorizer(max_features=100, stop_words='english'))\n",
        "    ])\n",
        "\n",
        "    # Text features for job title\n",
        "    title_transformer = Pipeline([\n",
        "        ('tfidf', TfidfVectorizer(max_features=50, stop_words='english'))\n",
        "    ])\n",
        "\n",
        "    # Categorical features - one-hot encode education and location\n",
        "    categorical_transformer = Pipeline([\n",
        "        ('onehot', OneHotEncoder(handle_unknown='ignore'))\n",
        "    ])\n",
        "\n",
        "    # Numeric features - scale minimum experience\n",
        "    numeric_transformer = Pipeline([\n",
        "        ('scaler', StandardScaler())\n",
        "    ])\n",
        "\n",
        "    # Combine transformers using ColumnTransformer\n",
        "    job_preprocessor = ColumnTransformer(\n",
        "        transformers=[\n",
        "            ('skills_text', text_transformer, 'required_skills'),\n",
        "            ('title_text', title_transformer, 'title'),\n",
        "            ('cat', categorical_transformer, ['required_education', 'location']),\n",
        "            ('num', numeric_transformer, ['min_experience'])\n",
        "        ],\n",
        "        remainder='drop'  # Drop other columns not specified\n",
        "    )\n",
        "\n",
        "    # Fit the preprocessor on jobs data\n",
        "    job_preprocessor.fit(jobs_df)\n",
        "\n",
        "    return job_preprocessor\n",
        "\n",
        "# Create and fit preprocessors\n",
        "candidate_preprocessor = create_candidate_preprocessor(candidates_df)\n",
        "job_preprocessor = create_job_preprocessor(jobs_df)"
      ],
      "metadata": {
        "id": "cYPhE8NM81we"
      },
      "execution_count": 6,
      "outputs": []
    },
    {
      "cell_type": "code",
      "source": [
        "# Transform the data using preprocessors\n",
        "\n",
        "# Transform candidate data\n",
        "candidate_features = candidate_preprocessor.transform(candidates_df)\n",
        "print(f\"Candidate features shape: {candidate_features.shape}\")\n",
        "\n",
        "# Transform job data\n",
        "job_features = job_preprocessor.transform(jobs_df)\n",
        "print(f\"Job features shape: {job_features.shape}\")"
      ],
      "metadata": {
        "colab": {
          "base_uri": "https://localhost:8080/"
        },
        "id": "Kei4Pm8I8sf1",
        "outputId": "1dd9a7ce-b007-4e2d-9959-6c95a9b320cd"
      },
      "execution_count": 7,
      "outputs": [
        {
          "output_type": "stream",
          "name": "stdout",
          "text": [
            "Candidate features shape: (100, 29)\n",
            "Job features shape: (50, 42)\n"
          ]
        }
      ]
    },
    {
      "cell_type": "code",
      "source": [
        "# Prepare training data\n",
        "\n",
        "def prepare_training_data(matches_df, candidates_df, jobs_df, candidate_features, job_features):\n",
        "    # Create indices for faster lookups\n",
        "    candidate_indices = {candidate_id: idx for idx, candidate_id in enumerate(candidates_df['id'])}\n",
        "    job_indices = {job_id: idx for idx, job_id in enumerate(jobs_df['id'])}\n",
        "\n",
        "    # Create training pairs and scores\n",
        "    train_pairs = []\n",
        "    match_scores = []\n",
        "\n",
        "    for _, row in matches_df.iterrows():\n",
        "        if row['candidate_id'] in candidate_indices and row['job_id'] in job_indices:\n",
        "            candidate_idx = candidate_indices[row['candidate_id']]\n",
        "            job_idx = job_indices[row['job_id']]\n",
        "\n",
        "            train_pairs.append((candidate_idx, job_idx))\n",
        "            match_scores.append(row['match_score'])\n",
        "\n",
        "    # Convert to numpy arrays\n",
        "    train_pairs = np.array(train_pairs)\n",
        "    match_scores = np.array(match_scores)\n",
        "\n",
        "    # Split into training and validation sets\n",
        "    train_indices, val_indices = train_test_split(\n",
        "        np.arange(len(train_pairs)),\n",
        "        test_size=0.2,\n",
        "        random_state=42\n",
        "    )\n",
        "\n",
        "    return train_pairs, match_scores, train_indices, val_indices\n",
        "\n",
        "# Prepare training data\n",
        "train_pairs, match_scores, train_indices, val_indices = prepare_training_data(\n",
        "    matches_df, candidates_df, jobs_df, candidate_features, job_features\n",
        ")\n",
        "\n",
        "print(f\"Number of training pairs: {len(train_indices)}\")\n",
        "print(f\"Number of validation pairs: {len(val_indices)}\")"
      ],
      "metadata": {
        "colab": {
          "base_uri": "https://localhost:8080/"
        },
        "id": "tHFKz02K8_1j",
        "outputId": "c4a2c98c-e96f-4eaf-e87f-b4ea36576019"
      },
      "execution_count": 8,
      "outputs": [
        {
          "output_type": "stream",
          "name": "stdout",
          "text": [
            "Number of training pairs: 240\n",
            "Number of validation pairs: 60\n"
          ]
        }
      ]
    },
    {
      "cell_type": "code",
      "source": [
        "# Define the dual-encoder model architecture\n",
        "\n",
        "def create_embedding_model(input_dim, name=None):\n",
        "    \"\"\"Create an encoder model that converts features to embeddings\"\"\"\n",
        "    inputs = tf.keras.layers.Input(shape=(input_dim,))\n",
        "\n",
        "    # First dense layer with dropout\n",
        "    x = tf.keras.layers.Dense(256, activation='relu')(inputs)\n",
        "    x = tf.keras.layers.Dropout(0.2)(x)\n",
        "\n",
        "    # Second dense layer\n",
        "    x = tf.keras.layers.Dense(128, activation='relu')(x)\n",
        "\n",
        "    # Final embedding layer (no activation for embeddings)\n",
        "    embedding = tf.keras.layers.Dense(128)(x)\n",
        "\n",
        "    # Create model\n",
        "    model = tf.keras.Model(inputs=inputs, outputs=embedding, name=name)\n",
        "    return model\n",
        "\n",
        "def create_matching_model(candidate_input_dim, job_input_dim):\n",
        "    \"\"\"Create the complete matching model with both encoders\"\"\"\n",
        "\n",
        "    # Create encoders\n",
        "    candidate_encoder = create_embedding_model(candidate_input_dim, \"candidate_encoder\")\n",
        "    job_encoder = create_embedding_model(job_input_dim, \"job_encoder\")\n",
        "\n",
        "    # Create inputs\n",
        "    candidate_input = tf.keras.layers.Input(shape=(candidate_input_dim,), name=\"candidate_input\")\n",
        "    job_input = tf.keras.layers.Input(shape=(job_input_dim,), name=\"job_input\")\n",
        "\n",
        "    # Get embeddings from encoders\n",
        "    candidate_embedding = candidate_encoder(candidate_input)\n",
        "    job_embedding = job_encoder(job_input)\n",
        "\n",
        "    # Normalize embeddings (for cosine similarity)\n",
        "    normalized_candidate = tf.keras.layers.Lambda(\n",
        "        lambda x: tf.math.l2_normalize(x, axis=1))(candidate_embedding)\n",
        "    normalized_job = tf.keras.layers.Lambda(\n",
        "        lambda x: tf.math.l2_normalize(x, axis=1))(job_embedding)\n",
        "\n",
        "    # Calculate similarity (dot product of normalized vectors = cosine similarity)\n",
        "    similarity = tf.keras.layers.Dot(axes=1)([normalized_candidate, normalized_job])\n",
        "\n",
        "    # Scale the similarity to produce a match score\n",
        "    match_score = tf.keras.layers.Dense(1, activation='sigmoid')(similarity)\n",
        "\n",
        "    # Create the complete model\n",
        "    model = tf.keras.Model(\n",
        "        inputs=[candidate_input, job_input],\n",
        "        outputs=match_score,\n",
        "        name=\"matching_model\"\n",
        "    )\n",
        "\n",
        "    # Also create separate models for inference\n",
        "    candidate_model = tf.keras.Model(\n",
        "        inputs=candidate_input,\n",
        "        outputs=normalized_candidate,\n",
        "        name=\"candidate_inference\"\n",
        "    )\n",
        "\n",
        "    job_model = tf.keras.Model(\n",
        "        inputs=job_input,\n",
        "        outputs=normalized_job,\n",
        "        name=\"job_inference\"\n",
        "    )\n",
        "\n",
        "    return model, candidate_model, job_model\n",
        "\n",
        "# Create the models\n",
        "matching_model, candidate_model, job_model = create_matching_model(\n",
        "    candidate_input_dim=candidate_features.shape[1],\n",
        "    job_input_dim=job_features.shape[1]\n",
        ")\n",
        "\n",
        "# Print model summaries\n",
        "print(\"Matching Model Summary:\")\n",
        "matching_model.summary()\n",
        "\n",
        "print(\"\\nCandidate Model Summary:\")\n",
        "candidate_model.summary()\n",
        "\n",
        "print(\"\\nJob Model Summary:\")\n",
        "job_model.summary()"
      ],
      "metadata": {
        "colab": {
          "base_uri": "https://localhost:8080/",
          "height": 1000
        },
        "id": "h0ENuwHR9Rlp",
        "outputId": "b87a6ae1-df37-4ca2-f2c2-85c943ef04ee"
      },
      "execution_count": 9,
      "outputs": [
        {
          "output_type": "stream",
          "name": "stdout",
          "text": [
            "Matching Model Summary:\n"
          ]
        },
        {
          "output_type": "display_data",
          "data": {
            "text/plain": [
              "\u001b[1mModel: \"matching_model\"\u001b[0m\n"
            ],
            "text/html": [
              "<pre style=\"white-space:pre;overflow-x:auto;line-height:normal;font-family:Menlo,'DejaVu Sans Mono',consolas,'Courier New',monospace\"><span style=\"font-weight: bold\">Model: \"matching_model\"</span>\n",
              "</pre>\n"
            ]
          },
          "metadata": {}
        },
        {
          "output_type": "display_data",
          "data": {
            "text/plain": [
              "┏━━━━━━━━━━━━━━━━━━━━━┳━━━━━━━━━━━━━━━━━━━┳━━━━━━━━━━━━┳━━━━━━━━━━━━━━━━━━━┓\n",
              "┃\u001b[1m \u001b[0m\u001b[1mLayer (type)       \u001b[0m\u001b[1m \u001b[0m┃\u001b[1m \u001b[0m\u001b[1mOutput Shape     \u001b[0m\u001b[1m \u001b[0m┃\u001b[1m \u001b[0m\u001b[1m   Param #\u001b[0m\u001b[1m \u001b[0m┃\u001b[1m \u001b[0m\u001b[1mConnected to     \u001b[0m\u001b[1m \u001b[0m┃\n",
              "┡━━━━━━━━━━━━━━━━━━━━━╇━━━━━━━━━━━━━━━━━━━╇━━━━━━━━━━━━╇━━━━━━━━━━━━━━━━━━━┩\n",
              "│ candidate_input     │ (\u001b[38;5;45mNone\u001b[0m, \u001b[38;5;34m29\u001b[0m)        │          \u001b[38;5;34m0\u001b[0m │ -                 │\n",
              "│ (\u001b[38;5;33mInputLayer\u001b[0m)        │                   │            │                   │\n",
              "├─────────────────────┼───────────────────┼────────────┼───────────────────┤\n",
              "│ job_input           │ (\u001b[38;5;45mNone\u001b[0m, \u001b[38;5;34m42\u001b[0m)        │          \u001b[38;5;34m0\u001b[0m │ -                 │\n",
              "│ (\u001b[38;5;33mInputLayer\u001b[0m)        │                   │            │                   │\n",
              "├─────────────────────┼───────────────────┼────────────┼───────────────────┤\n",
              "│ candidate_encoder   │ (\u001b[38;5;45mNone\u001b[0m, \u001b[38;5;34m128\u001b[0m)       │     \u001b[38;5;34m57,088\u001b[0m │ candidate_input[\u001b[38;5;34m…\u001b[0m │\n",
              "│ (\u001b[38;5;33mFunctional\u001b[0m)        │                   │            │                   │\n",
              "├─────────────────────┼───────────────────┼────────────┼───────────────────┤\n",
              "│ job_encoder         │ (\u001b[38;5;45mNone\u001b[0m, \u001b[38;5;34m128\u001b[0m)       │     \u001b[38;5;34m60,416\u001b[0m │ job_input[\u001b[38;5;34m0\u001b[0m][\u001b[38;5;34m0\u001b[0m]   │\n",
              "│ (\u001b[38;5;33mFunctional\u001b[0m)        │                   │            │                   │\n",
              "├─────────────────────┼───────────────────┼────────────┼───────────────────┤\n",
              "│ lambda (\u001b[38;5;33mLambda\u001b[0m)     │ (\u001b[38;5;45mNone\u001b[0m, \u001b[38;5;34m128\u001b[0m)       │          \u001b[38;5;34m0\u001b[0m │ candidate_encode… │\n",
              "├─────────────────────┼───────────────────┼────────────┼───────────────────┤\n",
              "│ lambda_1 (\u001b[38;5;33mLambda\u001b[0m)   │ (\u001b[38;5;45mNone\u001b[0m, \u001b[38;5;34m128\u001b[0m)       │          \u001b[38;5;34m0\u001b[0m │ job_encoder[\u001b[38;5;34m0\u001b[0m][\u001b[38;5;34m0\u001b[0m] │\n",
              "├─────────────────────┼───────────────────┼────────────┼───────────────────┤\n",
              "│ dot (\u001b[38;5;33mDot\u001b[0m)           │ (\u001b[38;5;45mNone\u001b[0m, \u001b[38;5;34m1\u001b[0m)         │          \u001b[38;5;34m0\u001b[0m │ lambda[\u001b[38;5;34m0\u001b[0m][\u001b[38;5;34m0\u001b[0m],     │\n",
              "│                     │                   │            │ lambda_1[\u001b[38;5;34m0\u001b[0m][\u001b[38;5;34m0\u001b[0m]    │\n",
              "├─────────────────────┼───────────────────┼────────────┼───────────────────┤\n",
              "│ dense_6 (\u001b[38;5;33mDense\u001b[0m)     │ (\u001b[38;5;45mNone\u001b[0m, \u001b[38;5;34m1\u001b[0m)         │          \u001b[38;5;34m2\u001b[0m │ dot[\u001b[38;5;34m0\u001b[0m][\u001b[38;5;34m0\u001b[0m]         │\n",
              "└─────────────────────┴───────────────────┴────────────┴───────────────────┘\n"
            ],
            "text/html": [
              "<pre style=\"white-space:pre;overflow-x:auto;line-height:normal;font-family:Menlo,'DejaVu Sans Mono',consolas,'Courier New',monospace\">┏━━━━━━━━━━━━━━━━━━━━━┳━━━━━━━━━━━━━━━━━━━┳━━━━━━━━━━━━┳━━━━━━━━━━━━━━━━━━━┓\n",
              "┃<span style=\"font-weight: bold\"> Layer (type)        </span>┃<span style=\"font-weight: bold\"> Output Shape      </span>┃<span style=\"font-weight: bold\">    Param # </span>┃<span style=\"font-weight: bold\"> Connected to      </span>┃\n",
              "┡━━━━━━━━━━━━━━━━━━━━━╇━━━━━━━━━━━━━━━━━━━╇━━━━━━━━━━━━╇━━━━━━━━━━━━━━━━━━━┩\n",
              "│ candidate_input     │ (<span style=\"color: #00d7ff; text-decoration-color: #00d7ff\">None</span>, <span style=\"color: #00af00; text-decoration-color: #00af00\">29</span>)        │          <span style=\"color: #00af00; text-decoration-color: #00af00\">0</span> │ -                 │\n",
              "│ (<span style=\"color: #0087ff; text-decoration-color: #0087ff\">InputLayer</span>)        │                   │            │                   │\n",
              "├─────────────────────┼───────────────────┼────────────┼───────────────────┤\n",
              "│ job_input           │ (<span style=\"color: #00d7ff; text-decoration-color: #00d7ff\">None</span>, <span style=\"color: #00af00; text-decoration-color: #00af00\">42</span>)        │          <span style=\"color: #00af00; text-decoration-color: #00af00\">0</span> │ -                 │\n",
              "│ (<span style=\"color: #0087ff; text-decoration-color: #0087ff\">InputLayer</span>)        │                   │            │                   │\n",
              "├─────────────────────┼───────────────────┼────────────┼───────────────────┤\n",
              "│ candidate_encoder   │ (<span style=\"color: #00d7ff; text-decoration-color: #00d7ff\">None</span>, <span style=\"color: #00af00; text-decoration-color: #00af00\">128</span>)       │     <span style=\"color: #00af00; text-decoration-color: #00af00\">57,088</span> │ candidate_input[<span style=\"color: #00af00; text-decoration-color: #00af00\">…</span> │\n",
              "│ (<span style=\"color: #0087ff; text-decoration-color: #0087ff\">Functional</span>)        │                   │            │                   │\n",
              "├─────────────────────┼───────────────────┼────────────┼───────────────────┤\n",
              "│ job_encoder         │ (<span style=\"color: #00d7ff; text-decoration-color: #00d7ff\">None</span>, <span style=\"color: #00af00; text-decoration-color: #00af00\">128</span>)       │     <span style=\"color: #00af00; text-decoration-color: #00af00\">60,416</span> │ job_input[<span style=\"color: #00af00; text-decoration-color: #00af00\">0</span>][<span style=\"color: #00af00; text-decoration-color: #00af00\">0</span>]   │\n",
              "│ (<span style=\"color: #0087ff; text-decoration-color: #0087ff\">Functional</span>)        │                   │            │                   │\n",
              "├─────────────────────┼───────────────────┼────────────┼───────────────────┤\n",
              "│ lambda (<span style=\"color: #0087ff; text-decoration-color: #0087ff\">Lambda</span>)     │ (<span style=\"color: #00d7ff; text-decoration-color: #00d7ff\">None</span>, <span style=\"color: #00af00; text-decoration-color: #00af00\">128</span>)       │          <span style=\"color: #00af00; text-decoration-color: #00af00\">0</span> │ candidate_encode… │\n",
              "├─────────────────────┼───────────────────┼────────────┼───────────────────┤\n",
              "│ lambda_1 (<span style=\"color: #0087ff; text-decoration-color: #0087ff\">Lambda</span>)   │ (<span style=\"color: #00d7ff; text-decoration-color: #00d7ff\">None</span>, <span style=\"color: #00af00; text-decoration-color: #00af00\">128</span>)       │          <span style=\"color: #00af00; text-decoration-color: #00af00\">0</span> │ job_encoder[<span style=\"color: #00af00; text-decoration-color: #00af00\">0</span>][<span style=\"color: #00af00; text-decoration-color: #00af00\">0</span>] │\n",
              "├─────────────────────┼───────────────────┼────────────┼───────────────────┤\n",
              "│ dot (<span style=\"color: #0087ff; text-decoration-color: #0087ff\">Dot</span>)           │ (<span style=\"color: #00d7ff; text-decoration-color: #00d7ff\">None</span>, <span style=\"color: #00af00; text-decoration-color: #00af00\">1</span>)         │          <span style=\"color: #00af00; text-decoration-color: #00af00\">0</span> │ lambda[<span style=\"color: #00af00; text-decoration-color: #00af00\">0</span>][<span style=\"color: #00af00; text-decoration-color: #00af00\">0</span>],     │\n",
              "│                     │                   │            │ lambda_1[<span style=\"color: #00af00; text-decoration-color: #00af00\">0</span>][<span style=\"color: #00af00; text-decoration-color: #00af00\">0</span>]    │\n",
              "├─────────────────────┼───────────────────┼────────────┼───────────────────┤\n",
              "│ dense_6 (<span style=\"color: #0087ff; text-decoration-color: #0087ff\">Dense</span>)     │ (<span style=\"color: #00d7ff; text-decoration-color: #00d7ff\">None</span>, <span style=\"color: #00af00; text-decoration-color: #00af00\">1</span>)         │          <span style=\"color: #00af00; text-decoration-color: #00af00\">2</span> │ dot[<span style=\"color: #00af00; text-decoration-color: #00af00\">0</span>][<span style=\"color: #00af00; text-decoration-color: #00af00\">0</span>]         │\n",
              "└─────────────────────┴───────────────────┴────────────┴───────────────────┘\n",
              "</pre>\n"
            ]
          },
          "metadata": {}
        },
        {
          "output_type": "display_data",
          "data": {
            "text/plain": [
              "\u001b[1m Total params: \u001b[0m\u001b[38;5;34m117,506\u001b[0m (459.01 KB)\n"
            ],
            "text/html": [
              "<pre style=\"white-space:pre;overflow-x:auto;line-height:normal;font-family:Menlo,'DejaVu Sans Mono',consolas,'Courier New',monospace\"><span style=\"font-weight: bold\"> Total params: </span><span style=\"color: #00af00; text-decoration-color: #00af00\">117,506</span> (459.01 KB)\n",
              "</pre>\n"
            ]
          },
          "metadata": {}
        },
        {
          "output_type": "display_data",
          "data": {
            "text/plain": [
              "\u001b[1m Trainable params: \u001b[0m\u001b[38;5;34m117,506\u001b[0m (459.01 KB)\n"
            ],
            "text/html": [
              "<pre style=\"white-space:pre;overflow-x:auto;line-height:normal;font-family:Menlo,'DejaVu Sans Mono',consolas,'Courier New',monospace\"><span style=\"font-weight: bold\"> Trainable params: </span><span style=\"color: #00af00; text-decoration-color: #00af00\">117,506</span> (459.01 KB)\n",
              "</pre>\n"
            ]
          },
          "metadata": {}
        },
        {
          "output_type": "display_data",
          "data": {
            "text/plain": [
              "\u001b[1m Non-trainable params: \u001b[0m\u001b[38;5;34m0\u001b[0m (0.00 B)\n"
            ],
            "text/html": [
              "<pre style=\"white-space:pre;overflow-x:auto;line-height:normal;font-family:Menlo,'DejaVu Sans Mono',consolas,'Courier New',monospace\"><span style=\"font-weight: bold\"> Non-trainable params: </span><span style=\"color: #00af00; text-decoration-color: #00af00\">0</span> (0.00 B)\n",
              "</pre>\n"
            ]
          },
          "metadata": {}
        },
        {
          "output_type": "stream",
          "name": "stdout",
          "text": [
            "\n",
            "Candidate Model Summary:\n"
          ]
        },
        {
          "output_type": "display_data",
          "data": {
            "text/plain": [
              "\u001b[1mModel: \"candidate_inference\"\u001b[0m\n"
            ],
            "text/html": [
              "<pre style=\"white-space:pre;overflow-x:auto;line-height:normal;font-family:Menlo,'DejaVu Sans Mono',consolas,'Courier New',monospace\"><span style=\"font-weight: bold\">Model: \"candidate_inference\"</span>\n",
              "</pre>\n"
            ]
          },
          "metadata": {}
        },
        {
          "output_type": "display_data",
          "data": {
            "text/plain": [
              "┏━━━━━━━━━━━━━━━━━━━━━━━━━━━━━━━━━┳━━━━━━━━━━━━━━━━━━━━━━━━┳━━━━━━━━━━━━━━━┓\n",
              "┃\u001b[1m \u001b[0m\u001b[1mLayer (type)                   \u001b[0m\u001b[1m \u001b[0m┃\u001b[1m \u001b[0m\u001b[1mOutput Shape          \u001b[0m\u001b[1m \u001b[0m┃\u001b[1m \u001b[0m\u001b[1m      Param #\u001b[0m\u001b[1m \u001b[0m┃\n",
              "┡━━━━━━━━━━━━━━━━━━━━━━━━━━━━━━━━━╇━━━━━━━━━━━━━━━━━━━━━━━━╇━━━━━━━━━━━━━━━┩\n",
              "│ candidate_input (\u001b[38;5;33mInputLayer\u001b[0m)    │ (\u001b[38;5;45mNone\u001b[0m, \u001b[38;5;34m29\u001b[0m)             │             \u001b[38;5;34m0\u001b[0m │\n",
              "├─────────────────────────────────┼────────────────────────┼───────────────┤\n",
              "│ candidate_encoder (\u001b[38;5;33mFunctional\u001b[0m)  │ (\u001b[38;5;45mNone\u001b[0m, \u001b[38;5;34m128\u001b[0m)            │        \u001b[38;5;34m57,088\u001b[0m │\n",
              "├─────────────────────────────────┼────────────────────────┼───────────────┤\n",
              "│ lambda (\u001b[38;5;33mLambda\u001b[0m)                 │ (\u001b[38;5;45mNone\u001b[0m, \u001b[38;5;34m128\u001b[0m)            │             \u001b[38;5;34m0\u001b[0m │\n",
              "└─────────────────────────────────┴────────────────────────┴───────────────┘\n"
            ],
            "text/html": [
              "<pre style=\"white-space:pre;overflow-x:auto;line-height:normal;font-family:Menlo,'DejaVu Sans Mono',consolas,'Courier New',monospace\">┏━━━━━━━━━━━━━━━━━━━━━━━━━━━━━━━━━┳━━━━━━━━━━━━━━━━━━━━━━━━┳━━━━━━━━━━━━━━━┓\n",
              "┃<span style=\"font-weight: bold\"> Layer (type)                    </span>┃<span style=\"font-weight: bold\"> Output Shape           </span>┃<span style=\"font-weight: bold\">       Param # </span>┃\n",
              "┡━━━━━━━━━━━━━━━━━━━━━━━━━━━━━━━━━╇━━━━━━━━━━━━━━━━━━━━━━━━╇━━━━━━━━━━━━━━━┩\n",
              "│ candidate_input (<span style=\"color: #0087ff; text-decoration-color: #0087ff\">InputLayer</span>)    │ (<span style=\"color: #00d7ff; text-decoration-color: #00d7ff\">None</span>, <span style=\"color: #00af00; text-decoration-color: #00af00\">29</span>)             │             <span style=\"color: #00af00; text-decoration-color: #00af00\">0</span> │\n",
              "├─────────────────────────────────┼────────────────────────┼───────────────┤\n",
              "│ candidate_encoder (<span style=\"color: #0087ff; text-decoration-color: #0087ff\">Functional</span>)  │ (<span style=\"color: #00d7ff; text-decoration-color: #00d7ff\">None</span>, <span style=\"color: #00af00; text-decoration-color: #00af00\">128</span>)            │        <span style=\"color: #00af00; text-decoration-color: #00af00\">57,088</span> │\n",
              "├─────────────────────────────────┼────────────────────────┼───────────────┤\n",
              "│ lambda (<span style=\"color: #0087ff; text-decoration-color: #0087ff\">Lambda</span>)                 │ (<span style=\"color: #00d7ff; text-decoration-color: #00d7ff\">None</span>, <span style=\"color: #00af00; text-decoration-color: #00af00\">128</span>)            │             <span style=\"color: #00af00; text-decoration-color: #00af00\">0</span> │\n",
              "└─────────────────────────────────┴────────────────────────┴───────────────┘\n",
              "</pre>\n"
            ]
          },
          "metadata": {}
        },
        {
          "output_type": "display_data",
          "data": {
            "text/plain": [
              "\u001b[1m Total params: \u001b[0m\u001b[38;5;34m57,088\u001b[0m (223.00 KB)\n"
            ],
            "text/html": [
              "<pre style=\"white-space:pre;overflow-x:auto;line-height:normal;font-family:Menlo,'DejaVu Sans Mono',consolas,'Courier New',monospace\"><span style=\"font-weight: bold\"> Total params: </span><span style=\"color: #00af00; text-decoration-color: #00af00\">57,088</span> (223.00 KB)\n",
              "</pre>\n"
            ]
          },
          "metadata": {}
        },
        {
          "output_type": "display_data",
          "data": {
            "text/plain": [
              "\u001b[1m Trainable params: \u001b[0m\u001b[38;5;34m57,088\u001b[0m (223.00 KB)\n"
            ],
            "text/html": [
              "<pre style=\"white-space:pre;overflow-x:auto;line-height:normal;font-family:Menlo,'DejaVu Sans Mono',consolas,'Courier New',monospace\"><span style=\"font-weight: bold\"> Trainable params: </span><span style=\"color: #00af00; text-decoration-color: #00af00\">57,088</span> (223.00 KB)\n",
              "</pre>\n"
            ]
          },
          "metadata": {}
        },
        {
          "output_type": "display_data",
          "data": {
            "text/plain": [
              "\u001b[1m Non-trainable params: \u001b[0m\u001b[38;5;34m0\u001b[0m (0.00 B)\n"
            ],
            "text/html": [
              "<pre style=\"white-space:pre;overflow-x:auto;line-height:normal;font-family:Menlo,'DejaVu Sans Mono',consolas,'Courier New',monospace\"><span style=\"font-weight: bold\"> Non-trainable params: </span><span style=\"color: #00af00; text-decoration-color: #00af00\">0</span> (0.00 B)\n",
              "</pre>\n"
            ]
          },
          "metadata": {}
        },
        {
          "output_type": "stream",
          "name": "stdout",
          "text": [
            "\n",
            "Job Model Summary:\n"
          ]
        },
        {
          "output_type": "display_data",
          "data": {
            "text/plain": [
              "\u001b[1mModel: \"job_inference\"\u001b[0m\n"
            ],
            "text/html": [
              "<pre style=\"white-space:pre;overflow-x:auto;line-height:normal;font-family:Menlo,'DejaVu Sans Mono',consolas,'Courier New',monospace\"><span style=\"font-weight: bold\">Model: \"job_inference\"</span>\n",
              "</pre>\n"
            ]
          },
          "metadata": {}
        },
        {
          "output_type": "display_data",
          "data": {
            "text/plain": [
              "┏━━━━━━━━━━━━━━━━━━━━━━━━━━━━━━━━━┳━━━━━━━━━━━━━━━━━━━━━━━━┳━━━━━━━━━━━━━━━┓\n",
              "┃\u001b[1m \u001b[0m\u001b[1mLayer (type)                   \u001b[0m\u001b[1m \u001b[0m┃\u001b[1m \u001b[0m\u001b[1mOutput Shape          \u001b[0m\u001b[1m \u001b[0m┃\u001b[1m \u001b[0m\u001b[1m      Param #\u001b[0m\u001b[1m \u001b[0m┃\n",
              "┡━━━━━━━━━━━━━━━━━━━━━━━━━━━━━━━━━╇━━━━━━━━━━━━━━━━━━━━━━━━╇━━━━━━━━━━━━━━━┩\n",
              "│ job_input (\u001b[38;5;33mInputLayer\u001b[0m)          │ (\u001b[38;5;45mNone\u001b[0m, \u001b[38;5;34m42\u001b[0m)             │             \u001b[38;5;34m0\u001b[0m │\n",
              "├─────────────────────────────────┼────────────────────────┼───────────────┤\n",
              "│ job_encoder (\u001b[38;5;33mFunctional\u001b[0m)        │ (\u001b[38;5;45mNone\u001b[0m, \u001b[38;5;34m128\u001b[0m)            │        \u001b[38;5;34m60,416\u001b[0m │\n",
              "├─────────────────────────────────┼────────────────────────┼───────────────┤\n",
              "│ lambda_1 (\u001b[38;5;33mLambda\u001b[0m)               │ (\u001b[38;5;45mNone\u001b[0m, \u001b[38;5;34m128\u001b[0m)            │             \u001b[38;5;34m0\u001b[0m │\n",
              "└─────────────────────────────────┴────────────────────────┴───────────────┘\n"
            ],
            "text/html": [
              "<pre style=\"white-space:pre;overflow-x:auto;line-height:normal;font-family:Menlo,'DejaVu Sans Mono',consolas,'Courier New',monospace\">┏━━━━━━━━━━━━━━━━━━━━━━━━━━━━━━━━━┳━━━━━━━━━━━━━━━━━━━━━━━━┳━━━━━━━━━━━━━━━┓\n",
              "┃<span style=\"font-weight: bold\"> Layer (type)                    </span>┃<span style=\"font-weight: bold\"> Output Shape           </span>┃<span style=\"font-weight: bold\">       Param # </span>┃\n",
              "┡━━━━━━━━━━━━━━━━━━━━━━━━━━━━━━━━━╇━━━━━━━━━━━━━━━━━━━━━━━━╇━━━━━━━━━━━━━━━┩\n",
              "│ job_input (<span style=\"color: #0087ff; text-decoration-color: #0087ff\">InputLayer</span>)          │ (<span style=\"color: #00d7ff; text-decoration-color: #00d7ff\">None</span>, <span style=\"color: #00af00; text-decoration-color: #00af00\">42</span>)             │             <span style=\"color: #00af00; text-decoration-color: #00af00\">0</span> │\n",
              "├─────────────────────────────────┼────────────────────────┼───────────────┤\n",
              "│ job_encoder (<span style=\"color: #0087ff; text-decoration-color: #0087ff\">Functional</span>)        │ (<span style=\"color: #00d7ff; text-decoration-color: #00d7ff\">None</span>, <span style=\"color: #00af00; text-decoration-color: #00af00\">128</span>)            │        <span style=\"color: #00af00; text-decoration-color: #00af00\">60,416</span> │\n",
              "├─────────────────────────────────┼────────────────────────┼───────────────┤\n",
              "│ lambda_1 (<span style=\"color: #0087ff; text-decoration-color: #0087ff\">Lambda</span>)               │ (<span style=\"color: #00d7ff; text-decoration-color: #00d7ff\">None</span>, <span style=\"color: #00af00; text-decoration-color: #00af00\">128</span>)            │             <span style=\"color: #00af00; text-decoration-color: #00af00\">0</span> │\n",
              "└─────────────────────────────────┴────────────────────────┴───────────────┘\n",
              "</pre>\n"
            ]
          },
          "metadata": {}
        },
        {
          "output_type": "display_data",
          "data": {
            "text/plain": [
              "\u001b[1m Total params: \u001b[0m\u001b[38;5;34m60,416\u001b[0m (236.00 KB)\n"
            ],
            "text/html": [
              "<pre style=\"white-space:pre;overflow-x:auto;line-height:normal;font-family:Menlo,'DejaVu Sans Mono',consolas,'Courier New',monospace\"><span style=\"font-weight: bold\"> Total params: </span><span style=\"color: #00af00; text-decoration-color: #00af00\">60,416</span> (236.00 KB)\n",
              "</pre>\n"
            ]
          },
          "metadata": {}
        },
        {
          "output_type": "display_data",
          "data": {
            "text/plain": [
              "\u001b[1m Trainable params: \u001b[0m\u001b[38;5;34m60,416\u001b[0m (236.00 KB)\n"
            ],
            "text/html": [
              "<pre style=\"white-space:pre;overflow-x:auto;line-height:normal;font-family:Menlo,'DejaVu Sans Mono',consolas,'Courier New',monospace\"><span style=\"font-weight: bold\"> Trainable params: </span><span style=\"color: #00af00; text-decoration-color: #00af00\">60,416</span> (236.00 KB)\n",
              "</pre>\n"
            ]
          },
          "metadata": {}
        },
        {
          "output_type": "display_data",
          "data": {
            "text/plain": [
              "\u001b[1m Non-trainable params: \u001b[0m\u001b[38;5;34m0\u001b[0m (0.00 B)\n"
            ],
            "text/html": [
              "<pre style=\"white-space:pre;overflow-x:auto;line-height:normal;font-family:Menlo,'DejaVu Sans Mono',consolas,'Courier New',monospace\"><span style=\"font-weight: bold\"> Non-trainable params: </span><span style=\"color: #00af00; text-decoration-color: #00af00\">0</span> (0.00 B)\n",
              "</pre>\n"
            ]
          },
          "metadata": {}
        }
      ]
    },
    {
      "cell_type": "code",
      "source": [],
      "metadata": {
        "id": "QyniIdeK-Rh3"
      },
      "execution_count": null,
      "outputs": []
    }
  ]
}