{
  "nbformat": 4,
  "nbformat_minor": 0,
  "metadata": {
    "colab": {
      "provenance": [],
      "authorship_tag": "ABX9TyO4dh3etStlkmC6zebdFRXS",
      "include_colab_link": true
    },
    "kernelspec": {
      "name": "python3",
      "display_name": "Python 3"
    },
    "language_info": {
      "name": "python"
    }
  },
  "cells": [
    {
      "cell_type": "markdown",
      "metadata": {
        "id": "view-in-github",
        "colab_type": "text"
      },
      "source": [
        "<a href=\"https://colab.research.google.com/github/AiJared/job_matching_model/blob/main/job_matching.ipynb\" target=\"_parent\"><img src=\"https://colab.research.google.com/assets/colab-badge.svg\" alt=\"Open In Colab\"/></a>"
      ]
    },
    {
      "cell_type": "code",
      "execution_count": 1,
      "metadata": {
        "colab": {
          "base_uri": "https://localhost:8080/"
        },
        "id": "_PbiKW1fhtq6",
        "outputId": "dbbcc65a-8e61-4c0c-d9d4-83ee668ea168"
      },
      "outputs": [
        {
          "output_type": "stream",
          "name": "stdout",
          "text": [
            "TensorFlow version: 2.18.0\n"
          ]
        }
      ],
      "source": [
        "# Import required libraries\n",
        "import numpy as np\n",
        "import pandas as pd\n",
        "import tensorflow as tf\n",
        "import matplotlib.pyplot as plt\n",
        "import seaborn as sns\n",
        "import pickle\n",
        "from sklearn.model_selection import train_test_split\n",
        "from sklearn.preprocessing import OneHotEncoder, StandardScaler\n",
        "from sklearn.feature_extraction.text import TfidfVectorizer\n",
        "from sklearn.pipeline import Pipeline\n",
        "from sklearn.compose import ColumnTransformer\n",
        "\n",
        "# Check TensorFlow version\n",
        "print(f\"TensorFlow version: {tf.__version__}\")"
      ]
    },
    {
      "cell_type": "code",
      "source": [
        "# Mock data creation (you'll replace this with your actual data loading)\n",
        "# This creates dummy data for development purposes\n",
        "# In a real scenario, you'd load your candidates.csv, jobs.csv, and matches.csv\n",
        "\n",
        "def create_mock_data():\n",
        "    # Create candidate data\n",
        "    candidates = pd.DataFrame({\n",
        "        'id': range(1, 101),\n",
        "        'skills': [\n",
        "            'python java sql', 'javascript html css', 'c++ python', 'java spring hibernate',\n",
        "            'react node.js mongodb', 'python django flask', 'java spring boot',\n",
        "            'javascript react redux', 'python numpy pandas', 'c# .net sql'\n",
        "        ] * 10,\n",
        "        'experience': np.random.randint(0, 11, 100),\n",
        "        'education': np.random.choice(['High School', 'Bachelor', 'Master', 'PhD'], 100),\n",
        "        'location': np.random.choice(['New York', 'San Francisco', 'Seattle', 'Austin', 'Chicago'], 100)\n",
        "    })\n",
        "\n",
        "    # Create job data\n",
        "    jobs = pd.DataFrame({\n",
        "        'id': range(1, 51),\n",
        "        'title': [\n",
        "            'Software Engineer', 'Web Developer', 'Data Scientist', 'Backend Developer',\n",
        "            'Frontend Developer', 'Full Stack Developer', 'DevOps Engineer',\n",
        "            'ML Engineer', 'Data Analyst', 'Software Developer'\n",
        "        ] * 5,\n",
        "        'required_skills': [\n",
        "            'python java sql', 'javascript html css', 'python pandas scikit-learn', 'java spring hibernate',\n",
        "            'react javascript css', 'python django javascript', 'aws docker kubernetes',\n",
        "            'python tensorflow keras', 'sql python tableau', 'c# .net sql'\n",
        "        ] * 5,\n",
        "        'min_experience': np.random.randint(0, 6, 50),\n",
        "        'required_education': np.random.choice(['High School', 'Bachelor', 'Master', 'PhD'], 50),\n",
        "        'location': np.random.choice(['New York', 'San Francisco', 'Seattle', 'Austin', 'Chicago'], 50)\n",
        "    })\n",
        "\n",
        "    # Create match data (some good matches, some poor matches)\n",
        "    matches = []\n",
        "    for _ in range(300):\n",
        "        candidate_id = np.random.randint(1, 101)\n",
        "        job_id = np.random.randint(1, 51)\n",
        "\n",
        "        # Simplistic match score calculation for demo\n",
        "        candidate = candidates[candidates['id'] == candidate_id].iloc[0]\n",
        "        job = jobs[jobs['id'] == job_id].iloc[0]\n",
        "\n",
        "        # Basic matching logic - more sophisticated in real implementation\n",
        "        skill_match = len(set(candidate['skills'].split()) & set(job['required_skills'].split())) / len(set(job['required_skills'].split()))\n",
        "        exp_match = 1 if candidate['experience'] >= job['min_experience'] else 0.5\n",
        "        edu_match = 1 if candidate['education'] == job['required_education'] else 0.7\n",
        "        loc_match = 1 if candidate['location'] == job['location'] else 0.8\n",
        "\n",
        "        match_score = (skill_match * 0.5 + exp_match * 0.3 + edu_match * 0.1 + loc_match * 0.1)\n",
        "\n",
        "        matches.append({\n",
        "            'candidate_id': candidate_id,\n",
        "            'job_id': job_id,\n",
        "            'match_score': match_score\n",
        "        })\n",
        "\n",
        "    matches_df = pd.DataFrame(matches)\n",
        "\n",
        "    return candidates, jobs, matches_df\n",
        "\n",
        "# Generate mock data\n",
        "candidates_df, jobs_df, matches_df = create_mock_data()\n",
        "\n",
        "# Display the first few rows of each dataframe\n",
        "print(\"Candidates DataFrame:\")\n",
        "print(candidates_df.head())\n",
        "print(\"\\nJobs DataFrame:\")\n",
        "print(jobs_df.head())\n",
        "print(\"\\nMatches DataFrame:\")\n",
        "print(matches_df.head())"
      ],
      "metadata": {
        "colab": {
          "base_uri": "https://localhost:8080/"
        },
        "id": "ut14v-hNiD5d",
        "outputId": "4d16e4a7-3b7b-4ba9-f4b9-81711f308d30"
      },
      "execution_count": 2,
      "outputs": [
        {
          "output_type": "stream",
          "name": "stdout",
          "text": [
            "Candidates DataFrame:\n",
            "   id                 skills  experience    education       location\n",
            "0   1        python java sql           6     Bachelor        Seattle\n",
            "1   2    javascript html css           4     Bachelor       New York\n",
            "2   3             c++ python           3     Bachelor  San Francisco\n",
            "3   4  java spring hibernate           6  High School        Chicago\n",
            "4   5  react node.js mongodb           6          PhD       New York\n",
            "\n",
            "Jobs DataFrame:\n",
            "   id               title             required_skills  min_experience  \\\n",
            "0   1   Software Engineer             python java sql               2   \n",
            "1   2       Web Developer         javascript html css               4   \n",
            "2   3      Data Scientist  python pandas scikit-learn               4   \n",
            "3   4   Backend Developer       java spring hibernate               5   \n",
            "4   5  Frontend Developer        react javascript css               3   \n",
            "\n",
            "  required_education       location  \n",
            "0             Master         Austin  \n",
            "1           Bachelor  San Francisco  \n",
            "2             Master        Seattle  \n",
            "3                PhD       New York  \n",
            "4                PhD        Chicago  \n",
            "\n",
            "Matches DataFrame:\n",
            "   candidate_id  job_id  match_score\n",
            "0            48      15     0.813333\n",
            "1            40      39     0.466667\n",
            "2            96      31     0.616667\n",
            "3            30      50     1.000000\n",
            "4            27       4     0.783333\n"
          ]
        }
      ]
    },
    {
      "cell_type": "code",
      "source": [
        "# Cell 3: Load actual data (uncomment and modify for your actual data)\n",
        "\"\"\"\n",
        "# Load your actual data\n",
        "candidates_df = pd.read_csv('candidates.csv')\n",
        "jobs_df = pd.read_csv('jobs.csv')\n",
        "matches_df = pd.read_csv('matches.csv')\n",
        "\n",
        "# Display basic statistics\n",
        "print(\"Candidates DataFrame Info:\")\n",
        "print(candidates_df.info())\n",
        "print(\"\\nJobs DataFrame Info:\")\n",
        "print(jobs_df.info())\n",
        "print(\"\\nMatches DataFrame Info:\")\n",
        "print(matches_df.info())\n",
        "\"\"\""
      ],
      "metadata": {
        "colab": {
          "base_uri": "https://localhost:8080/",
          "height": 70
        },
        "id": "GD-UWJV_jlDo",
        "outputId": "76b7f2bf-ef7b-49c8-f9c4-4833fcc74f6d"
      },
      "execution_count": 3,
      "outputs": [
        {
          "output_type": "execute_result",
          "data": {
            "text/plain": [
              "'\\n# Load your actual data\\ncandidates_df = pd.read_csv(\\'candidates.csv\\')\\njobs_df = pd.read_csv(\\'jobs.csv\\')\\nmatches_df = pd.read_csv(\\'matches.csv\\')\\n\\n# Display basic statistics\\nprint(\"Candidates DataFrame Info:\")\\nprint(candidates_df.info())\\nprint(\"\\nJobs DataFrame Info:\")\\nprint(jobs_df.info())\\nprint(\"\\nMatches DataFrame Info:\")\\nprint(matches_df.info())\\n'"
            ],
            "application/vnd.google.colaboratory.intrinsic+json": {
              "type": "string"
            }
          },
          "metadata": {},
          "execution_count": 3
        }
      ]
    },
    {
      "cell_type": "code",
      "source": [],
      "metadata": {
        "id": "L5WTwom7uyEV"
      },
      "execution_count": null,
      "outputs": []
    }
  ]
}